{
 "cells": [
  {
   "cell_type": "markdown",
   "metadata": {},
   "source": [
    "# 🎮 Procedural Breakout - Build Android APK\n",
    "\n",
    "Este notebook compila o jogo **Procedural Breakout** para Android usando **Buildozer** no Google Colab.\n",
    "\n",
    "## 📋 Instruções:\n",
    "1. Execute cada célula em sequência\n",
    "2. Aguarde a compilação (pode demorar 10-15 minutos)\n",
    "3. Baixe o APK gerado da pasta `bin/`\n",
    "\n",
    "## 🎯 Resultado:\n",
    "- APK funcional para Android 5.0+\n",
    "- Controles touch otimizados\n",
    "- Jogo completo com 10 níveis"
   ]
  },
  {
   "cell_type": "code",
   "execution_count": null,
   "metadata": {},
   "outputs": [],
   "source": [
    "# 📦 Instalar dependências\n",
    "print(\"🔧 Instalando Buildozer e dependências...\")\n",
    "!pip install buildozer Cython==0.29.36\n",
    "print(\"✅ Dependências instaladas com sucesso!\")"
   ]
  },
  {
   "cell_type": "code",
   "execution_count": null,
   "metadata": {},
   "outputs": [],
   "source": [
    "# 📥 Clonar o repositório\n",
    "print(\"📥 Baixando código do jogo...\")\n",
    "!git clone https://github.com/michelbr84/ProceduralBreakout.git\n",
    "%cd ProceduralBreakout\n",
    "print(\"✅ Repositório clonado com sucesso!\")"
   ]
  },
  {
   "cell_type": "code",
   "execution_count": null,
   "metadata": {},
   "outputs": [],
   "source": [
    "# 🛠️ Preparar arquivos para build\n",
    "print(\"🛠️ Preparando arquivos para compilação...\")\n",
    "!mkdir -p android_build\n",
    "!cp main_kivy.py android_build/main.py\n",
    "!cp buildozer.spec android_build/\n",
    "!cp android_requirements.txt android_build/requirements.txt\n",
    "%cd android_build\n",
    "print(\"✅ Arquivos preparados!\")"
   ]
  },
  {
   "cell_type": "code",
   "execution_count": null,
   "metadata": {},
   "outputs": [],
   "source": [
    "# 🚀 Compilar APK\n",
    "print(\"🚀 Iniciando compilação do APK...\")\n",
    "print(\"⏳ Isso pode demorar 10-15 minutos...\")\n",
    "!buildozer -v android debug\n",
    "print(\"✅ Compilação concluída!\")"
   ]
  },
  {
   "cell_type": "code",
   "execution_count": null,
   "metadata": {},
   "outputs": [],
   "source": [
    "# 📱 Verificar APK gerado\n",
    "print(\"📱 Verificando APK gerado...\")\n",
    "!ls -la bin/\n",
    "print(\"\\n🎉 APK gerado com sucesso!\")\n",
    "print(\"📥 Baixe o arquivo .apk da pasta bin/ acima\")\n",
    "print(\"📱 Instale no seu Android e divirta-se!\")"
   ]
  },
  {
   "cell_type": "markdown",
   "metadata": {},
   "source": [
    "## 🎮 Como Jogar no Android:\n",
    "\n",
    "### 📱 Controles:\n",
    "- **Tap na tela**: Lançar a bola\n",
    "- **Swipe horizontal**: Mover o paddle\n",
    "- **Tap no menu**: Selecionar opções\n",
    "\n",
    "### 🎯 Objetivo:\n",
    "- Quebre todos os blocos para passar de nível\n",
    "- Cada cor representa uma resistência diferente\n",
    "- Complete os 10 níveis para vencer!\n",
    "\n",
    "### 🏆 Recursos:\n",
    "- 3 vidas por jogo\n",
    "- Sistema de pontuação\n",
    "- Geração procedural de blocos\n",
    "- Sons e efeitos\n",
    "\n",
    "**Divirta-se! 🎮**"
   ]
  }
 ],
 "metadata": {
  "kernelspec": {
   "display_name": "Python 3",
   "language": "python",
   "name": "python3"
  },
  "language_info": {
   "codemirror_mode": {
    "name": "ipython",
    "version": 3
   },
   "file_extension": ".py",
   "mimetype": "text/x-python",
   "name": "python",
   "nbconvert_exporter": "python",
   "pygments_lexer": "ipython3",
   "version": "3.8.5"
  }
 },
 "nbformat": 4,
 "nbformat_minor": 4
}